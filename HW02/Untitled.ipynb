{
 "cells": [
  {
   "cell_type": "code",
   "execution_count": 40,
   "metadata": {
    "collapsed": true
   },
   "outputs": [],
   "source": [
    "# 載入模組\n",
    "import os"
   ]
  },
  {
   "cell_type": "code",
   "execution_count": 43,
   "metadata": {},
   "outputs": [],
   "source": [
    "# 這是 main() 的註解\n",
    "def main():\n",
    "#印出()內的文字\n",
    "    print(\"Hello, world!\")\n",
    "    print(\"This is Alice's qreeting.\")\n",
    "    print(\"This is Bob\\'s greeting.\")\n",
    "    \n",
    "#設定foo兩個值為5、10    \n",
    "    foo(5,10)\n",
    "\n",
    "#顯示 \"=\"重複10次\n",
    "    print (\"\"=\" * 10)\n",
    "\n",
    "#顯示出字串並且叫出現在工作的目錄\n",
    "    print (\"Current working directory is\" + os.getcwd())\n",
    "\n",
    "#設定一個變數為0\n",
    "    counter=0\n",
    "\n",
    "#給定counter變數最後=1\n",
    "    counter += 1\n",
    "\n",
    "#令食物等於蘋果，柳丁，貓\n",
    "    food = ['apples', 'oranges', 'cats']\n",
    "\n",
    "#顯示出我喜歡吃甚麼的迴圈\n",
    "    for i in food:\n",
    "        print ('I like to eat' + i )\n",
    "        \n",
    "#顯示出\"Count to ten\",迴圈跑出1到10，並顯示出來\n",
    "    print (\"Count to ten:\")\n",
    "    for i in range(1,11):\n",
    "        print (i)"
   ]
  },
  {
   "cell_type": "code",
   "execution_count": 50,
   "metadata": {},
   "outputs": [
    {
     "name": "stdout",
     "output_type": "stream",
     "text": [
      "Hello, world!\n",
      "This is Alice's qreeting.\n",
      "This is Bob's greeting.\n",
      "5 plus 10 is equal to 15\n",
      "foo\n",
      "==========\n",
      "Current working directory isC:\\Users\\user\\Desktop\\研究所課程\\碩一上\\python\\QF20170921-master\\01_basics\\HW02\n",
      "I like to eatapples\n",
      "I like to eatoranges\n",
      "I like to eatcats\n",
      "Count to ten:\n",
      "1\n",
      "2\n",
      "3\n",
      "4\n",
      "5\n",
      "6\n",
      "7\n",
      "8\n",
      "9\n",
      "10\n"
     ]
    }
   ],
   "source": [
    "#給定foo(參數1,參數2)，再令 res等於兩參數相加\n",
    "def foo(paraml, secondParam) :\n",
    "    res= paraml + secondParam\n",
    "    \n",
    "#顯示參數1加參數2\n",
    "    print ('%s plus %s is equal to %s' % (paraml,secondParam,res))\n",
    "    \n",
    "#當res小於50時,顯示foo;當res大於50且(參數1等於42或參數2等於24)時,顯示bar;都不符合上述條件則顯示moo    \n",
    "    if res < 50:\n",
    "        print ('foo')\n",
    "        \n",
    "    elif (res >= 50) and ((paraml == 42) or (secondParam == 24)) :\n",
    "        print ('bar')\n",
    "        \n",
    "    else: \n",
    "        print ('moo')\n",
    "        \n",
    "#若有用到參數,用return回傳res\n",
    "    return res \n",
    "#當__name__等於__main__時，執行main函式\n",
    "if __name__ == '__main__':                                        \n",
    "    main()                                                        "
   ]
  },
  {
   "cell_type": "code",
   "execution_count": null,
   "metadata": {
    "collapsed": true
   },
   "outputs": [],
   "source": []
  }
 ],
 "metadata": {
  "kernelspec": {
   "display_name": "Python 3",
   "language": "python",
   "name": "python3"
  },
  "language_info": {
   "codemirror_mode": {
    "name": "ipython",
    "version": 3
   },
   "file_extension": ".py",
   "mimetype": "text/x-python",
   "name": "python",
   "nbconvert_exporter": "python",
   "pygments_lexer": "ipython3",
   "version": "3.6.3"
  }
 },
 "nbformat": 4,
 "nbformat_minor": 2
}
